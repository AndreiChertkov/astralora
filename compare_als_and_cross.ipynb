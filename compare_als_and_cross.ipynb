{
 "cells": [
  {
   "cell_type": "code",
   "execution_count": 1,
   "metadata": {},
   "outputs": [],
   "source": [
    "import numpy as np\n",
    "import teneva\n",
    "from time import perf_counter as tpc\n",
    "from tqdm import tqdm\n",
    "import torch\n",
    "import matplotlib.pyplot as plt\n",
    "from layers.helpers.astralora_bb import MatrixFactorizationALS\n",
    "\n",
    "    \n",
    "\n",
    "np.random.seed(42)"
   ]
  },
  {
   "cell_type": "code",
   "execution_count": 2,
   "metadata": {},
   "outputs": [],
   "source": [
    "# train data\n",
    "# matrix_size = 10000\n",
    "# n_samples = 2000\n",
    "# appr_rank = 500\n",
    "matrix_size = 100\n",
    "n_samples = 2000\n",
    "appr_rank = 10\n",
    "\n",
    "\n",
    "# generate random matrix\n",
    "A = np.random.rand(matrix_size, matrix_size)\n",
    "\n",
    "def generate_dataset(n_samples, matrix_size, A):\n",
    "    X = np.random.rand(n_samples, matrix_size)\n",
    "    Y = X @ A\n",
    "    return X, Y\n",
    "\n",
    "X, Y = generate_dataset(n_samples, matrix_size, A)\n"
   ]
  },
  {
   "cell_type": "markdown",
   "metadata": {},
   "source": [
    "# GD"
   ]
  },
  {
   "cell_type": "code",
   "execution_count": 10,
   "metadata": {},
   "outputs": [],
   "source": [
    "def train_gd(X, Y, matrix_size, appr_rank, device='cpu', learning_rate=0.001, n_epochs=10000, batch_size=2000):\n",
    "    # Initialize random matrices U and V such that A ≈ UV^T\n",
    "    \n",
    "    U = torch.tensor(np.random.randn(matrix_size, appr_rank), requires_grad=True, device=device)\n",
    "    V = torch.tensor(np.random.randn(matrix_size, appr_rank), requires_grad=True, device=device)\n",
    "    X_tensor = torch.tensor(X, device=device)\n",
    "    Y_tensor = torch.tensor(Y, device=device)\n",
    "\n",
    "    # Create data loader for mini-batches\n",
    "    dataset = torch.utils.data.TensorDataset(X_tensor, Y_tensor)\n",
    "    dataloader = torch.utils.data.DataLoader(dataset, batch_size=batch_size, shuffle=True)\n",
    "\n",
    "    # Initialize optimizer\n",
    "    optimizer = torch.optim.Adam([U, V], lr=learning_rate)\n",
    "\n",
    "    # For tracking loss history\n",
    "    losses = []\n",
    "\n",
    "    # Training loop\n",
    "    \n",
    "    for epoch in tqdm(range(n_epochs), desc='Training'):\n",
    "        epoch_loss = 0\n",
    "        batch_count = 0\n",
    "        \n",
    "        for X_batch, Y_batch in dataloader:\n",
    "            # Zero gradients\n",
    "            optimizer.zero_grad()\n",
    "            \n",
    "            # Compute predictions\n",
    "            Y_pred = X_batch @ U @ V.T\n",
    "            \n",
    "            # Compute loss\n",
    "            loss = torch.mean((Y_pred - Y_batch) ** 2)\n",
    "            epoch_loss += loss.item()\n",
    "            batch_count += 1\n",
    "            \n",
    "            # Backward pass\n",
    "            loss.backward()\n",
    "            \n",
    "            # Update parameters\n",
    "            optimizer.step()\n",
    "        \n",
    "        # Average loss over batches\n",
    "        avg_epoch_loss = epoch_loss / batch_count\n",
    "        losses.append(avg_epoch_loss)\n",
    "        \n",
    "        # # Print loss every 100 epochs\n",
    "        # if (epoch + 1) % 100 == 0:\n",
    "        #     print(f'Epoch {epoch+1}/{n_epochs}, Loss: {avg_epoch_loss:.6f}')\n",
    "\n",
    "    \n",
    "\n",
    "    # Reconstruct approximated A and move to CPU if needed\n",
    "    U = U.cpu()\n",
    "    V = V.cpu()\n",
    "    A_approx_grad = (U @ V.T).detach().numpy()\n",
    "    \n",
    "    return A_approx_grad, U.detach().numpy(), V.detach().numpy(), losses\n"
   ]
  },
  {
   "cell_type": "code",
   "execution_count": 11,
   "metadata": {},
   "outputs": [
    {
     "name": "stderr",
     "output_type": "stream",
     "text": [
      "Training:   0%|          | 0/10000 [00:00<?, ?it/s]\n"
     ]
    },
    {
     "ename": "RuntimeError",
     "evalue": "mat1 and mat2 shapes cannot be multiplied (2000x100 and 5000x500)",
     "output_type": "error",
     "traceback": [
      "\u001b[0;31m---------------------------------------------------------------------------\u001b[0m",
      "\u001b[0;31mRuntimeError\u001b[0m                              Traceback (most recent call last)",
      "Cell \u001b[0;32mIn[11], line 3\u001b[0m\n\u001b[1;32m      1\u001b[0m t \u001b[38;5;241m=\u001b[39m tpc()\n\u001b[0;32m----> 3\u001b[0m A_approx_grad, U, V, losses \u001b[38;5;241m=\u001b[39m \u001b[43mtrain_gd\u001b[49m\u001b[43m(\u001b[49m\u001b[43mX\u001b[49m\u001b[43m,\u001b[49m\u001b[43m \u001b[49m\u001b[43mY\u001b[49m\u001b[43m,\u001b[49m\u001b[43m \u001b[49m\u001b[43mmatrix_size\u001b[49m\u001b[43m,\u001b[49m\u001b[43m \u001b[49m\u001b[43mappr_rank\u001b[49m\u001b[43m)\u001b[49m\n\u001b[1;32m      5\u001b[0m train_time \u001b[38;5;241m=\u001b[39m tpc() \u001b[38;5;241m-\u001b[39m t\n\u001b[1;32m      6\u001b[0m \u001b[38;5;28mprint\u001b[39m(\u001b[38;5;124mf\u001b[39m\u001b[38;5;124m'\u001b[39m\u001b[38;5;130;01m\\n\u001b[39;00m\u001b[38;5;124mTraining time: \u001b[39m\u001b[38;5;132;01m{\u001b[39;00mtrain_time\u001b[38;5;132;01m:\u001b[39;00m\u001b[38;5;124m.2f\u001b[39m\u001b[38;5;132;01m}\u001b[39;00m\u001b[38;5;124m seconds\u001b[39m\u001b[38;5;124m'\u001b[39m)\n",
      "Cell \u001b[0;32mIn[10], line 30\u001b[0m, in \u001b[0;36mtrain_gd\u001b[0;34m(X, Y, matrix_size, appr_rank, device, learning_rate, n_epochs, batch_size)\u001b[0m\n\u001b[1;32m     27\u001b[0m optimizer\u001b[38;5;241m.\u001b[39mzero_grad()\n\u001b[1;32m     29\u001b[0m \u001b[38;5;66;03m# Compute predictions\u001b[39;00m\n\u001b[0;32m---> 30\u001b[0m Y_pred \u001b[38;5;241m=\u001b[39m \u001b[43mX_batch\u001b[49m\u001b[43m \u001b[49m\u001b[38;5;241;43m@\u001b[39;49m\u001b[43m \u001b[49m\u001b[43mU\u001b[49m \u001b[38;5;241m@\u001b[39m V\u001b[38;5;241m.\u001b[39mT\n\u001b[1;32m     32\u001b[0m \u001b[38;5;66;03m# Compute loss\u001b[39;00m\n\u001b[1;32m     33\u001b[0m loss \u001b[38;5;241m=\u001b[39m torch\u001b[38;5;241m.\u001b[39mmean((Y_pred \u001b[38;5;241m-\u001b[39m Y_batch) \u001b[38;5;241m*\u001b[39m\u001b[38;5;241m*\u001b[39m \u001b[38;5;241m2\u001b[39m)\n",
      "\u001b[0;31mRuntimeError\u001b[0m: mat1 and mat2 shapes cannot be multiplied (2000x100 and 5000x500)"
     ]
    }
   ],
   "source": [
    "t = tpc()\n",
    "\n",
    "A_approx_grad, U, V, losses = train_gd(X, Y, matrix_size, appr_rank)\n",
    "\n",
    "train_time = tpc() - t\n",
    "print(f'\\nTraining time: {train_time:.2f} seconds')\n",
    "\n",
    "# Plot convergence\n",
    "plt.figure(figsize=(10, 6))\n",
    "plt.plot(losses, '-b', label='Training Loss')\n",
    "plt.xlabel('Epoch')\n",
    "plt.ylabel('MSE Loss')\n",
    "plt.title('Training Convergence')\n",
    "plt.legend()\n",
    "plt.yscale('log')\n",
    "plt.grid(True)\n",
    "plt.show()"
   ]
  },
  {
   "cell_type": "code",
   "execution_count": 25,
   "metadata": {},
   "outputs": [
    {
     "name": "stdout",
     "output_type": "stream",
     "text": [
      "Training MSE: 0.822197\n",
      "Relative error: 0.550204\n"
     ]
    }
   ],
   "source": [
    "# Compute predictions on training set\n",
    "Y_pred_grad = X @ U.detach().numpy() @ V.detach().numpy().T\n",
    "train_mse = np.mean((Y_pred_grad - Y) ** 2).item()\n",
    "print(f'Training MSE: {train_mse:.6f}')\n",
    "\n",
    "\n",
    "# Compute relative error\n",
    "rel_error = np.linalg.norm(A_approx_grad - A) / np.linalg.norm(A)\n",
    "print(f'Relative error: {rel_error:.6f}')\n"
   ]
  },
  {
   "cell_type": "markdown",
   "metadata": {},
   "source": [
    "# ALS"
   ]
  },
  {
   "cell_type": "code",
   "execution_count": 26,
   "metadata": {},
   "outputs": [],
   "source": []
  },
  {
   "cell_type": "code",
   "execution_count": 11,
   "metadata": {},
   "outputs": [
    {
     "name": "stdout",
     "output_type": "stream",
     "text": [
      "Iteration 0: Loss = 0.684690\n",
      "Iteration 10: Loss = 0.480302\n",
      "Iteration 20: Loss = 0.476199\n",
      "Iteration 30: Loss = 0.475446\n",
      "Iteration 40: Loss = 0.475301\n",
      "Iteration 50: Loss = 0.475268\n"
     ]
    },
    {
     "ename": "KeyboardInterrupt",
     "evalue": "",
     "output_type": "error",
     "traceback": [
      "\u001b[0;31m---------------------------------------------------------------------------\u001b[0m",
      "\u001b[0;31mKeyboardInterrupt\u001b[0m                         Traceback (most recent call last)",
      "Cell \u001b[0;32mIn[11], line 15\u001b[0m\n\u001b[1;32m      6\u001b[0m als_model \u001b[38;5;241m=\u001b[39m MatrixFactorizationALS(\n\u001b[1;32m      7\u001b[0m     rank\u001b[38;5;241m=\u001b[39mappr_rank, \n\u001b[1;32m      8\u001b[0m     max_iter\u001b[38;5;241m=\u001b[39m\u001b[38;5;241m100\u001b[39m, \n\u001b[0;32m   (...)\u001b[0m\n\u001b[1;32m     11\u001b[0m     device\u001b[38;5;241m=\u001b[39mdevice\n\u001b[1;32m     12\u001b[0m )\n\u001b[1;32m     14\u001b[0m \u001b[38;5;66;03m# Fit the model\u001b[39;00m\n\u001b[0;32m---> 15\u001b[0m \u001b[43mals_model\u001b[49m\u001b[38;5;241;43m.\u001b[39;49m\u001b[43mfit\u001b[49m\u001b[43m(\u001b[49m\u001b[43mX_tensor\u001b[49m\u001b[43m,\u001b[49m\u001b[43m \u001b[49m\u001b[43mY_tensor\u001b[49m\u001b[43m,\u001b[49m\u001b[43m \u001b[49m\u001b[43mverbose\u001b[49m\u001b[38;5;241;43m=\u001b[39;49m\u001b[38;5;28;43;01mTrue\u001b[39;49;00m\u001b[43m,\u001b[49m\u001b[43m \u001b[49m\u001b[43mminibatch_size\u001b[49m\u001b[38;5;241;43m=\u001b[39;49m\u001b[38;5;241;43m2000\u001b[39;49m\u001b[43m)\u001b[49m\n",
      "File \u001b[0;32m~/chertkov/astralora/layers/helpers/astralora_bb.py:168\u001b[0m, in \u001b[0;36mMatrixFactorizationALS.fit\u001b[0;34m(self, X, Y, verbose, minibatch_size)\u001b[0m\n\u001b[1;32m    166\u001b[0m \u001b[38;5;28;01mfor\u001b[39;00m iteration \u001b[38;5;129;01min\u001b[39;00m \u001b[38;5;28mrange\u001b[39m(\u001b[38;5;28mself\u001b[39m\u001b[38;5;241m.\u001b[39mmax_iter):\n\u001b[1;32m    167\u001b[0m     X_batch, Y_batch \u001b[38;5;241m=\u001b[39m \u001b[38;5;28mself\u001b[39m\u001b[38;5;241m.\u001b[39m_sample_minibatch(X, Y, minibatch_size)\n\u001b[0;32m--> 168\u001b[0m     \u001b[38;5;28;43mself\u001b[39;49m\u001b[38;5;241;43m.\u001b[39;49m\u001b[43m_update_B\u001b[49m\u001b[43m(\u001b[49m\u001b[43mX_batch\u001b[49m\u001b[43m,\u001b[49m\u001b[43m \u001b[49m\u001b[43mY_batch\u001b[49m\u001b[43m)\u001b[49m\n\u001b[1;32m    170\u001b[0m     X_batch, Y_batch \u001b[38;5;241m=\u001b[39m \u001b[38;5;28mself\u001b[39m\u001b[38;5;241m.\u001b[39m_sample_minibatch(X, Y, minibatch_size)\n\u001b[1;32m    171\u001b[0m     \u001b[38;5;28mself\u001b[39m\u001b[38;5;241m.\u001b[39m_update_C(X_batch, Y_batch)\n",
      "File \u001b[0;32m~/chertkov/astralora/layers/helpers/astralora_bb.py:125\u001b[0m, in \u001b[0;36mMatrixFactorizationALS._update_B\u001b[0;34m(self, X, Y)\u001b[0m\n\u001b[1;32m    123\u001b[0m XXT \u001b[38;5;241m=\u001b[39m X \u001b[38;5;241m@\u001b[39m X\u001b[38;5;241m.\u001b[39mT  \u001b[38;5;66;03m# Shape: (batch_size, batch_size)\u001b[39;00m\n\u001b[1;32m    124\u001b[0m \u001b[38;5;28;01mtry\u001b[39;00m:\n\u001b[0;32m--> 125\u001b[0m     XXT_inv \u001b[38;5;241m=\u001b[39m \u001b[43mtorch\u001b[49m\u001b[38;5;241;43m.\u001b[39;49m\u001b[43mlinalg\u001b[49m\u001b[38;5;241;43m.\u001b[39;49m\u001b[43mpinv\u001b[49m\u001b[43m(\u001b[49m\u001b[43mXXT\u001b[49m\u001b[43m)\u001b[49m\n\u001b[1;32m    126\u001b[0m     \u001b[38;5;28mself\u001b[39m\u001b[38;5;241m.\u001b[39mB \u001b[38;5;241m=\u001b[39m X\u001b[38;5;241m.\u001b[39mT \u001b[38;5;241m@\u001b[39m XXT_inv \u001b[38;5;241m@\u001b[39m W  \u001b[38;5;66;03m# Shape: (n, r)\u001b[39;00m\n\u001b[1;32m    127\u001b[0m \u001b[38;5;28;01mexcept\u001b[39;00m \u001b[38;5;167;01mRuntimeError\u001b[39;00m:\n",
      "\u001b[0;31mKeyboardInterrupt\u001b[0m: "
     ]
    }
   ],
   "source": [
    "device = torch.device('cuda:1')\n",
    "X_tensor = torch.tensor(X, device=device)\n",
    "Y_tensor = torch.tensor(Y, device=device)\n",
    "\n",
    "# Create ALS model and fit\n",
    "als_model = MatrixFactorizationALS(\n",
    "    rank=appr_rank, \n",
    "    max_iter=100, \n",
    "    tol=1e-6,\n",
    "    random_state=42, \n",
    "    device=device\n",
    ")\n",
    "\n",
    "# Fit the model\n",
    "als_model.fit(X_tensor, Y_tensor, verbose=True, minibatch_size=2000)\n",
    "\n",
    "\n",
    "\n",
    "\n",
    "\n",
    "\n"
   ]
  },
  {
   "cell_type": "code",
   "execution_count": 28,
   "metadata": {},
   "outputs": [
    {
     "name": "stdout",
     "output_type": "stream",
     "text": [
      "Training MSE: 0.476506\n",
      "Relative error: 0.421435\n"
     ]
    }
   ],
   "source": [
    "# Get the factorization B, C where Y ≈ X @ B @ C\n",
    "B, C = als_model.get_factorization()\n",
    "\n",
    "A_approx_als = als_model.reconstruct_A()\n",
    "\n",
    "# Get predictions on training set\n",
    "Y_pred_als = als_model.predict(X_np)\n",
    "\n",
    "# Compute MSE\n",
    "mse = np.mean((Y_np - Y_pred_als) ** 2)\n",
    "print(f'Training MSE: {mse:.6f}')\n",
    "\n",
    "# Compute relative error\n",
    "rel_error = np.linalg.norm(A_approx_als - A) / np.linalg.norm(A)\n",
    "print(f'Relative error: {rel_error:.6f}')"
   ]
  },
  {
   "cell_type": "code",
   "execution_count": 29,
   "metadata": {},
   "outputs": [
    {
     "name": "stdout",
     "output_type": "stream",
     "text": [
      "SVD relative error: 0.418738\n"
     ]
    }
   ],
   "source": [
    "# Compute SVD of A\n",
    "U_svd, S_svd, Vh_svd = np.linalg.svd(A)\n",
    "\n",
    "# Crop to rank\n",
    "U_svd_cropped = U_svd[:, :appr_rank]\n",
    "S_svd_cropped = S_svd[:appr_rank]\n",
    "Vh_svd_cropped = Vh_svd[:appr_rank, :]\n",
    "\n",
    "# Reconstruct approximation\n",
    "A_approx_svd = U_svd_cropped @ np.diag(S_svd_cropped) @ Vh_svd_cropped\n",
    "\n",
    "# Compute relative error\n",
    "rel_error_svd = np.linalg.norm(A_approx_svd - A) / np.linalg.norm(A)\n",
    "print(f'SVD relative error: {rel_error_svd:.6f}')\n"
   ]
  },
  {
   "cell_type": "markdown",
   "metadata": {},
   "source": [
    "# Relative errors wrt to the number of samples"
   ]
  },
  {
   "cell_type": "code",
   "execution_count": 20,
   "metadata": {},
   "outputs": [
    {
     "name": "stderr",
     "output_type": "stream",
     "text": [
      "/tmp/ipykernel_2928524/1718330977.py:6: UserWarning: To copy construct from a tensor, it is recommended to use sourceTensor.clone().detach() or sourceTensor.clone().detach().requires_grad_(True), rather than torch.tensor(sourceTensor).\n",
      "  X_tensor = torch.tensor(X, device=device)\n",
      "/tmp/ipykernel_2928524/1718330977.py:7: UserWarning: To copy construct from a tensor, it is recommended to use sourceTensor.clone().detach() or sourceTensor.clone().detach().requires_grad_(True), rather than torch.tensor(sourceTensor).\n",
      "  Y_tensor = torch.tensor(Y, device=device)\n"
     ]
    },
    {
     "name": "stdout",
     "output_type": "stream",
     "text": [
      "Iteration 0: Loss = 0.000000\n",
      "Converged at iteration 1\n",
      "Samples: 100, ALS relative error: 0.950188\n"
     ]
    },
    {
     "name": "stderr",
     "output_type": "stream",
     "text": [
      "Training: 100%|██████████| 1000/1000 [00:01<00:00, 760.79it/s]\n"
     ]
    },
    {
     "name": "stdout",
     "output_type": "stream",
     "text": [
      "Relative error: 9.117118\n",
      "Iteration 0: Loss = 665.870985\n",
      "Iteration 10: Loss = 476.478338\n",
      "Converged at iteration 17\n",
      "Samples: 500, ALS relative error: 0.908735\n"
     ]
    },
    {
     "name": "stderr",
     "output_type": "stream",
     "text": [
      "Training: 100%|██████████| 1000/1000 [00:03<00:00, 267.33it/s]\n"
     ]
    },
    {
     "name": "stdout",
     "output_type": "stream",
     "text": [
      "Relative error: 6.162340\n",
      "Iteration 0: Loss = 749.862090\n",
      "Iteration 10: Loss = 574.429806\n",
      "Converged at iteration 17\n",
      "Samples: 1000, ALS relative error: 0.871790\n"
     ]
    },
    {
     "name": "stderr",
     "output_type": "stream",
     "text": [
      "Training: 100%|██████████| 1000/1000 [00:07<00:00, 136.29it/s]\n"
     ]
    },
    {
     "name": "stdout",
     "output_type": "stream",
     "text": [
      "Relative error: 3.155473\n"
     ]
    },
    {
     "data": {
      "image/png": "[encoded data removed]",
      "text/plain": [
       "<Figure size 1000x600 with 1 Axes>"
      ]
     },
     "metadata": {},
     "output_type": "display_data"
    }
   ],
   "source": [
    "with torch.no_grad():\n",
    "    # Define sample sizes to test\n",
    "    sample_sizes = [100, 500, 1000]#, 2500, 5000]\n",
    "    matrix_size = 1024\n",
    "    appr_rank = 100\n",
    "\n",
    "    # Store results\n",
    "    als_errors = []\n",
    "    gd_errors = []\n",
    "\n",
    "    device = torch.device('cuda:1')\n",
    "    A = np.random.randn(matrix_size, matrix_size)\n",
    "    A_torch = torch.tensor(A, device=device)\n",
    "\n",
    "    # Run experiments for each sample size\n",
    "    for n_samples in sample_sizes:\n",
    "        # Generate random input samples\n",
    "        X_np = np.random.randn(n_samples, matrix_size)\n",
    "        Y_np = X_np @ A\n",
    "        \n",
    "        # Convert to torch tensors on GPU\n",
    "        X_torch = torch.tensor(X_np, device=device)\n",
    "        Y_torch = torch.tensor(Y_np, device=device)\n",
    "        \n",
    "        # Create and fit ALS model\n",
    "        als_model = MatrixFactorizationALS(\n",
    "            rank=appr_rank,\n",
    "            max_iter=100,\n",
    "            tol=1e-1,\n",
    "            random_state=42,\n",
    "            device=device\n",
    "        )\n",
    "        als_model.fit(X_torch, Y_torch, verbose=True, minibatch_size=n_samples)\n",
    "        \n",
    "        # Get approximation and compute error\n",
    "        A_als = als_model.reconstruct_A().cpu().numpy()\n",
    "        rel_error = np.linalg.norm(A_als - A) / np.linalg.norm(A)\n",
    "        als_errors.append(rel_error)\n",
    "        \n",
    "        print(f'Samples: {n_samples}, ALS relative error: {rel_error:.6f}')\n",
    "\n",
    "        # compute with gd\n",
    "        with torch.enable_grad():\n",
    "            A_approx_grad, U, V, losses = train_gd(X_torch, Y_torch, matrix_size, appr_rank, device=device, n_epochs=1000, batch_size=500)\n",
    "        # Compute relative error\n",
    "        rel_error = np.linalg.norm(A_approx_grad - A) / np.linalg.norm(A)\n",
    "        gd_errors.append(rel_error)\n",
    "        print(f'Relative error: {rel_error:.6f}')\n",
    "\n",
    "# Plot results\n",
    "plt.figure(figsize=(10, 6))\n",
    "plt.plot(sample_sizes, als_errors, 'o-', label='ALS')\n",
    "plt.plot(sample_sizes, gd_errors, 's-', label='GD')\n",
    "plt.xscale('log')\n",
    "plt.yscale('log')\n",
    "plt.xlabel('Number of samples')\n",
    "plt.ylabel('Relative error')\n",
    "plt.title('Approximation error vs number of samples')\n",
    "plt.grid(True)\n",
    "plt.legend()\n",
    "plt.show()\n"
   ]
  },
  {
   "cell_type": "code",
   "execution_count": 21,
   "metadata": {},
   "outputs": [
    {
     "name": "stdout",
     "output_type": "stream",
     "text": [
      "SVD relative error: 0.832190\n"
     ]
    }
   ],
   "source": [
    "# Compute true SVD of A and get truncated reconstruction\n",
    "U_true, S_true, Vh_true = np.linalg.svd(A)\n",
    "A_svd = U_true[:, :appr_rank] @ np.diag(S_true[:appr_rank]) @ Vh_true[:appr_rank, :]\n",
    "svd_error = np.linalg.norm(A_svd - A) / np.linalg.norm(A)\n",
    "print(f'SVD relative error: {svd_error:.6f}')\n",
    "\n",
    "\n",
    "\n"
   ]
  },
  {
   "cell_type": "code",
   "execution_count": 24,
   "metadata": {},
   "outputs": [
    {
     "data": {
      "image/png": "[encoded data removed]",
      "text/plain": [
       "<Figure size 1000x600 with 1 Axes>"
      ]
     },
     "metadata": {},
     "output_type": "display_data"
    }
   ],
   "source": [
    "# Update plot to include SVD results\n",
    "plt.figure(figsize=(10, 6))\n",
    "plt.plot(sample_sizes, als_errors, 'o-', label='ALS')\n",
    "plt.plot(sample_sizes, gd_errors, 's-', label='GD')\n",
    "plt.axhline(y=svd_error, color='r', linestyle='-', label='SVD')\n",
    "plt.xscale('log')\n",
    "plt.ylim(bottom=0)\n",
    "\n",
    "# plt.yscale('log')\n",
    "plt.xlabel('Number of samples')\n",
    "plt.ylabel('Relative error')\n",
    "plt.title('Approximation error vs number of samples')\n",
    "plt.grid(True)\n",
    "plt.legend()\n",
    "plt.show()"
   ]
  },
  {
   "cell_type": "markdown",
   "metadata": {},
   "source": [
    "# Cross (ne nado)"
   ]
  },
  {
   "cell_type": "code",
   "execution_count": 4,
   "metadata": {},
   "outputs": [],
   "source": [
    "# m         = n_samples  # Number of calls to target function\n",
    "# e         = None   # Desired accuracy\n",
    "# nswp      = None   # Sweep number\n",
    "# r         = 500      # TT-rank of the initial tensor\n",
    "# dr_min    = 0      # Cross parameter (minimum number of added rows)\n",
    "# dr_max    = 0      # Cross parameter (maximum number of added rows)"
   ]
  },
  {
   "cell_type": "code",
   "execution_count": 5,
   "metadata": {},
   "outputs": [],
   "source": [
    "# t = tpc()\n",
    "# info, cache = {}, {}\n",
    "# Y = teneva.rand([matrix_size, matrix_size], appr_rank)\n",
    "# Y = teneva.cross(func, Y, m, e, nswp, dr_min=dr_min, dr_max=dr_max,\n",
    "#     info=info, cache=cache)\n",
    "# Y = teneva.truncate(Y, 1.E-4) # We round the result at the end\n",
    "# t = tpc() - t\n",
    "\n",
    "# print(f'Build time           : {t:-10.2f}')\n",
    "# print(f'Evals func           : {info[\"m\"]:-10d}')\n",
    "# print(f'Cache uses           : {info[\"m_cache\"]:-10d}')\n",
    "# print(f'Iter accuracy        : {info[\"e\"]:-10.2e}')\n",
    "# print(f'Sweep number         : {info[\"nswp\"]:-10d}')\n",
    "# print(f'Stop condition       : {info[\"stop\"]:>10}')\n",
    "# print(f'TT-rank of pure res  : {info[\"r\"]:-10.1f}')\n",
    "# print(f'TT-rank of trunc res : {teneva.erank(Y):-10.1f}')"
   ]
  }
 ],
 "metadata": {
  "kernelspec": {
   "display_name": "astralora",
   "language": "python",
   "name": "python3"
  },
  "language_info": {
   "codemirror_mode": {
    "name": "ipython",
    "version": 3
   },
   "file_extension": ".py",
   "mimetype": "text/x-python",
   "name": "python",
   "nbconvert_exporter": "python",
   "pygments_lexer": "ipython3",
   "version": "3.10.17"
  }
 },
 "nbformat": 4,
 "nbformat_minor": 2
}
