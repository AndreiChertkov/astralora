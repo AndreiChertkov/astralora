{
 "cells": [
  {
   "cell_type": "code",
   "execution_count": 2,
   "id": "9941ed2c-6272-4144-8c96-4e800f0b5c49",
   "metadata": {
    "ExecuteTime": {
     "end_time": "2023-10-08T22:31:08.203574Z",
     "start_time": "2023-10-08T22:31:08.021951Z"
    }
   },
   "outputs": [],
   "source": [
    "import numpy as np\n",
    "import teneva\n",
    "from time import perf_counter as tpc\n",
    "np.random.seed(42)"
   ]
  },
  {
   "cell_type": "code",
   "execution_count": 95,
   "id": "d905d98d-0183-4522-9395-60a001494b18",
   "metadata": {
    "ExecuteTime": {
     "end_time": "2023-10-08T22:31:08.207487Z",
     "start_time": "2023-10-08T22:31:08.205039Z"
    }
   },
   "outputs": [],
   "source": [
    "d        = 2           # Dimension of the function\n",
    "n        = [ 20,  20]  # Shape of the tensor\n",
    "r_matrix = 10"
   ]
  },
  {
   "cell_type": "code",
   "execution_count": 96,
   "id": "aba30907-47c9-42af-b49b-555ed7ad96c9",
   "metadata": {
    "ExecuteTime": {
     "end_time": "2023-10-08T22:31:08.212704Z",
     "start_time": "2023-10-08T22:31:08.208607Z"
    }
   },
   "outputs": [],
   "source": [
    "m        = 1.E+4                      # Number of calls to target function\n",
    "nswp     = 50                         # Sweep number for ALS iterations\n",
    "r        = 5                          # TT-rank of the initial random tensor"
   ]
  },
  {
   "cell_type": "code",
   "execution_count": 97,
   "id": "f5d5592e-5bab-439f-a871-f1c1e755dc5f",
   "metadata": {},
   "outputs": [
    {
     "data": {
      "text/plain": [
       "(20, 20)"
      ]
     },
     "execution_count": 97,
     "metadata": {},
     "output_type": "execute_result"
    }
   ],
   "source": [
    "A = teneva.rand(n, r_matrix)\n",
    "A = A[0][0] @ A[-1][:, :, 0]\n",
    "A.shape"
   ]
  },
  {
   "cell_type": "code",
   "execution_count": 98,
   "id": "2f232565-7d62-4198-9a0d-ae800e993e69",
   "metadata": {},
   "outputs": [],
   "source": [
    "def f(x): # BB\n",
    "    return x @ A.T\n",
    "\n",
    "def f_elem(i):\n",
    "    x = np.zeros(n[1])\n",
    "    x[i[1]] = 1.\n",
    "    return f(x)[i[0]]"
   ]
  },
  {
   "cell_type": "code",
   "execution_count": 99,
   "id": "391dd65e-ca27-46f8-a0cc-15a0e3919f08",
   "metadata": {
    "ExecuteTime": {
     "end_time": "2023-10-08T22:31:08.217788Z",
     "start_time": "2023-10-08T22:31:08.214684Z"
    }
   },
   "outputs": [],
   "source": [
    "def func(I):\n",
    "    y = []\n",
    "    for i in I:\n",
    "        a = f_elem(i) # A[tuple(i)]\n",
    "        y.append(a)\n",
    "    return np.array(y)"
   ]
  },
  {
   "cell_type": "code",
   "execution_count": 100,
   "id": "fe4f4875-86df-4026-9129-c400a502e302",
   "metadata": {
    "ExecuteTime": {
     "end_time": "2023-10-08T22:31:08.225511Z",
     "start_time": "2023-10-08T22:31:08.218886Z"
    }
   },
   "outputs": [],
   "source": [
    "I_trn = teneva.sample_lhs(n, m, seed=42) \n",
    "y_trn = func(I_trn)"
   ]
  },
  {
   "cell_type": "code",
   "execution_count": 101,
   "id": "681f954b-8f65-4691-b72a-7303b8d1a247",
   "metadata": {
    "ExecuteTime": {
     "end_time": "2023-10-08T22:31:08.231646Z",
     "start_time": "2023-10-08T22:31:08.226606Z"
    }
   },
   "outputs": [],
   "source": [
    "I_tst = teneva.sample_rand(n, 1.E+4, seed=42) \n",
    "y_tst = func(I_tst)"
   ]
  },
  {
   "cell_type": "code",
   "execution_count": 102,
   "id": "fec32781-80f8-494e-a25a-a399c916164f",
   "metadata": {
    "ExecuteTime": {
     "end_time": "2023-10-08T22:31:10.399464Z",
     "start_time": "2023-10-08T22:31:08.232840Z"
    }
   },
   "outputs": [
    {
     "name": "stdout",
     "output_type": "stream",
     "text": [
      "Build time     :       0.34\n"
     ]
    }
   ],
   "source": [
    "t = tpc()\n",
    "Y = teneva.anova(I_trn, y_trn, r)\n",
    "Y = teneva.als(I_trn, y_trn, Y, nswp)\n",
    "t = tpc() - t\n",
    "\n",
    "print(f'Build time     : {t:-10.2f}')"
   ]
  },
  {
   "cell_type": "code",
   "execution_count": 103,
   "id": "bf3e1a2b-d4d7-4d5b-a540-5d7c0cc0b5c5",
   "metadata": {},
   "outputs": [],
   "source": [
    "Y = teneva.orthogonalize(Y)"
   ]
  },
  {
   "cell_type": "markdown",
   "id": "e74ce8d7-64d1-4ae1-9041-5500a4f8465b",
   "metadata": {},
   "source": [
    "And now we can check the result:"
   ]
  },
  {
   "cell_type": "code",
   "execution_count": 104,
   "id": "292c1545-2e55-46f6-98a3-2e6d4e8e5dc5",
   "metadata": {
    "ExecuteTime": {
     "end_time": "2023-10-08T22:31:10.415512Z",
     "start_time": "2023-10-08T22:31:10.400930Z"
    }
   },
   "outputs": [
    {
     "name": "stdout",
     "output_type": "stream",
     "text": [
      "Error on train :   3.42e-01\n",
      "Error on test  :   3.54e-01\n"
     ]
    }
   ],
   "source": [
    "# Compute approximation in train points:\n",
    "y_our = teneva.get_many(Y, I_trn)\n",
    "\n",
    "# Accuracy of the result for train points:\n",
    "e_trn = np.linalg.norm(y_our - y_trn)          \n",
    "e_trn /= np.linalg.norm(y_trn)\n",
    "\n",
    "# Compute approximation in test points:\n",
    "y_our = teneva.get_many(Y, I_tst)\n",
    "\n",
    "# Accuracy of the result for test points:\n",
    "e_tst = np.linalg.norm(y_our - y_tst)          \n",
    "e_tst /= np.linalg.norm(y_tst)\n",
    "\n",
    "print(f'Error on train : {e_trn:-10.2e}')\n",
    "print(f'Error on test  : {e_tst:-10.2e}')"
   ]
  },
  {
   "cell_type": "code",
   "execution_count": 105,
   "id": "b3ea2376-abbb-4287-8142-8f06e52e46a2",
   "metadata": {},
   "outputs": [],
   "source": [
    "U = Y[0][0, :, :]\n",
    "V = Y[1][:, :, 0]"
   ]
  },
  {
   "cell_type": "code",
   "execution_count": 106,
   "id": "cc460022-7e79-4811-ab1b-20efce20f0f0",
   "metadata": {},
   "outputs": [
    {
     "data": {
      "text/plain": [
       "1.2666633865006947"
      ]
     },
     "execution_count": 106,
     "metadata": {},
     "output_type": "execute_result"
    }
   ],
   "source": [
    "np.max(np.abs(U @ V - A))"
   ]
  },
  {
   "cell_type": "code",
   "execution_count": 107,
   "id": "5f4030c4-17f3-4217-8471-db20c99e5ffa",
   "metadata": {},
   "outputs": [],
   "source": [
    "U1, S1, V1 = np.linalg.svd(A, full_matrices=False)"
   ]
  },
  {
   "cell_type": "code",
   "execution_count": 109,
   "id": "1c5a59b2-c5e6-416a-a7ee-63e85304a12c",
   "metadata": {},
   "outputs": [
    {
     "data": {
      "text/plain": [
       "1.2114543332388032"
      ]
     },
     "execution_count": 109,
     "metadata": {},
     "output_type": "execute_result"
    }
   ],
   "source": [
    "S1[r:] = 0.\n",
    "np.max(np.abs(U1 @ np.diag(S1) @ V1 - A))"
   ]
  },
  {
   "cell_type": "code",
   "execution_count": null,
   "id": "28eb8bc3-a1f7-43aa-a032-a3d067e5af40",
   "metadata": {},
   "outputs": [],
   "source": []
  },
  {
   "cell_type": "code",
   "execution_count": null,
   "id": "2accf7b0-73c3-4ff6-8302-0daac4d56aa6",
   "metadata": {},
   "outputs": [],
   "source": []
  },
  {
   "cell_type": "code",
   "execution_count": null,
   "id": "77fd298d-8ceb-430b-a960-f3566e74f456",
   "metadata": {},
   "outputs": [],
   "source": []
  },
  {
   "cell_type": "code",
   "execution_count": 131,
   "id": "aa544c12-acf9-461b-a0a3-1f3957ee4dfd",
   "metadata": {},
   "outputs": [],
   "source": [
    "m         = 1.E+5  # Number of calls to target function\n",
    "e         = None   # Desired accuracy\n",
    "nswp      = None   # Sweep number\n",
    "r         = 5      # TT-rank of the initial tensor\n",
    "dr_min    = 0      # Cross parameter (minimum number of added rows)\n",
    "dr_max    = 0      # Cross parameter (maximum number of added rows)"
   ]
  },
  {
   "cell_type": "code",
   "execution_count": 132,
   "id": "89b145fb-3677-494a-8ea5-3f10bb84fbc4",
   "metadata": {},
   "outputs": [
    {
     "name": "stdout",
     "output_type": "stream",
     "text": [
      "Build time           :       0.02\n",
      "Evals func           :        270\n",
      "Cache uses           :       1730\n",
      "Iter accuracy        :   0.00e+00\n",
      "Sweep number         :          5\n",
      "Stop condition       :       conv\n",
      "TT-rank of pure res  :        5.0\n",
      "TT-rank of trunc res :        5.0\n"
     ]
    }
   ],
   "source": [
    "t = tpc()\n",
    "info, cache = {}, {}\n",
    "Y = teneva.rand(n, r)\n",
    "Y = teneva.cross(func, Y, m, e, nswp, dr_min=dr_min, dr_max=dr_max,\n",
    "    info=info, cache=cache)\n",
    "Y = teneva.truncate(Y, 1.E-4) # We round the result at the end\n",
    "t = tpc() - t\n",
    "\n",
    "print(f'Build time           : {t:-10.2f}')\n",
    "print(f'Evals func           : {info[\"m\"]:-10d}')\n",
    "print(f'Cache uses           : {info[\"m_cache\"]:-10d}')\n",
    "print(f'Iter accuracy        : {info[\"e\"]:-10.2e}')\n",
    "print(f'Sweep number         : {info[\"nswp\"]:-10d}')\n",
    "print(f'Stop condition       : {info[\"stop\"]:>10}')\n",
    "print(f'TT-rank of pure res  : {info[\"r\"]:-10.1f}')\n",
    "print(f'TT-rank of trunc res : {teneva.erank(Y):-10.1f}')"
   ]
  },
  {
   "cell_type": "code",
   "execution_count": 133,
   "id": "e3196749-dc7d-4125-aa26-a4862049faa2",
   "metadata": {},
   "outputs": [],
   "source": [
    "Y = teneva.orthogonalize(Y)"
   ]
  },
  {
   "cell_type": "code",
   "execution_count": 134,
   "id": "15780ee8-c0f0-4ab4-bfa1-df843276d0cb",
   "metadata": {},
   "outputs": [
    {
     "name": "stdout",
     "output_type": "stream",
     "text": [
      "Error on test        :   5.82e-01\n"
     ]
    }
   ],
   "source": [
    "# Compute approximation in test points:\n",
    "y_our = teneva.get_many(Y, I_tst)\n",
    "\n",
    "# Accuracy of the result for test points:\n",
    "e_tst = np.linalg.norm(y_our - y_tst) / np.linalg.norm(y_tst)\n",
    "\n",
    "print(f'Error on test        : {e_tst:-10.2e}')"
   ]
  },
  {
   "cell_type": "code",
   "execution_count": 135,
   "id": "297076d7-c7fc-44a9-a9e9-60926877617c",
   "metadata": {},
   "outputs": [],
   "source": [
    "U = Y[0][0, :, :]\n",
    "V = Y[1][:, :, 0]"
   ]
  },
  {
   "cell_type": "code",
   "execution_count": 136,
   "id": "2e4a9dae-87f9-4317-a8ce-d77a60e2bb3a",
   "metadata": {},
   "outputs": [
    {
     "data": {
      "text/plain": [
       "2.478295578380338"
      ]
     },
     "execution_count": 136,
     "metadata": {},
     "output_type": "execute_result"
    }
   ],
   "source": [
    "np.max(np.abs(U @ V - A))"
   ]
  },
  {
   "cell_type": "code",
   "execution_count": null,
   "id": "325e0ebe-4aaa-433f-b6ce-107b4a9d8fc4",
   "metadata": {},
   "outputs": [],
   "source": []
  }
 ],
 "metadata": {
  "kernelspec": {
   "display_name": "astralora",
   "language": "python",
   "name": "python3"
  },
  "language_info": {
   "codemirror_mode": {
    "name": "ipython",
    "version": 3
   },
   "file_extension": ".py",
   "mimetype": "text/x-python",
   "name": "python",
   "nbconvert_exporter": "python",
   "pygments_lexer": "ipython3",
   "version": "3.10.17"
  }
 },
 "nbformat": 4,
 "nbformat_minor": 5
}
